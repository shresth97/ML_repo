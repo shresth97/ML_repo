{
  "nbformat": 4,
  "nbformat_minor": 0,
  "metadata": {
    "colab": {
      "name": "Industrial_SafetyDS Practice.ipynb",
      "provenance": [],
      "collapsed_sections": [],
      "authorship_tag": "ABX9TyN22rTf7q+dYz7zUPIOYeNq",
      "include_colab_link": true
    },
    "kernelspec": {
      "name": "python3",
      "display_name": "Python 3"
    },
    "language_info": {
      "name": "python"
    }
  },
  "cells": [
    {
      "cell_type": "markdown",
      "metadata": {
        "id": "view-in-github",
        "colab_type": "text"
      },
      "source": [
        "<a href=\"https://colab.research.google.com/github/shresth97/ML_repo/blob/main/Industrial_SafetyDS_Practice.ipynb\" target=\"_parent\"><img src=\"https://colab.research.google.com/assets/colab-badge.svg\" alt=\"Open In Colab\"/></a>"
      ]
    },
    {
      "cell_type": "code",
      "metadata": {
        "id": "tyqYQRlupSzH"
      },
      "source": [
        "import numpy as np\n",
        "import pandas as pd\n",
        "import matplotlib.pyplot as plt\n",
        "from sklearn.model_selection import train_test_split\n"
      ],
      "execution_count": null,
      "outputs": []
    },
    {
      "cell_type": "code",
      "metadata": {
        "colab": {
          "base_uri": "https://localhost:8080/",
          "height": 599
        },
        "id": "3Rc9g52rpikP",
        "outputId": "d15655f1-15e0-4cfc-e304-8c2a3941d015"
      },
      "source": [
        "df = pd.read_csv(\"https://raw.githubusercontent.com/gauravpks/ml-repo/master/IndustrialSafetyDS/industrial_safety.csv\")\n",
        "df"
      ],
      "execution_count": null,
      "outputs": [
        {
          "output_type": "execute_result",
          "data": {
            "text/html": [
              "<div>\n",
              "<style scoped>\n",
              "    .dataframe tbody tr th:only-of-type {\n",
              "        vertical-align: middle;\n",
              "    }\n",
              "\n",
              "    .dataframe tbody tr th {\n",
              "        vertical-align: top;\n",
              "    }\n",
              "\n",
              "    .dataframe thead th {\n",
              "        text-align: right;\n",
              "    }\n",
              "</style>\n",
              "<table border=\"1\" class=\"dataframe\">\n",
              "  <thead>\n",
              "    <tr style=\"text-align: right;\">\n",
              "      <th></th>\n",
              "      <th>Data</th>\n",
              "      <th>Countries</th>\n",
              "      <th>Local</th>\n",
              "      <th>Industry Sector</th>\n",
              "      <th>Accident Level</th>\n",
              "      <th>Potential Accident Level</th>\n",
              "      <th>Gender</th>\n",
              "      <th>Employee or Third Party</th>\n",
              "      <th>Critical Risk</th>\n",
              "      <th>Description</th>\n",
              "    </tr>\n",
              "  </thead>\n",
              "  <tbody>\n",
              "    <tr>\n",
              "      <th>0</th>\n",
              "      <td>01-01-2016 00:00</td>\n",
              "      <td>United States</td>\n",
              "      <td>West Virginia</td>\n",
              "      <td>Mining</td>\n",
              "      <td>I</td>\n",
              "      <td>IV</td>\n",
              "      <td>Male</td>\n",
              "      <td>Third Party</td>\n",
              "      <td>Pressed</td>\n",
              "      <td>While removing the drill rod of the Jumbo 08 f...</td>\n",
              "    </tr>\n",
              "    <tr>\n",
              "      <th>1</th>\n",
              "      <td>02-01-2016 00:00</td>\n",
              "      <td>Canada</td>\n",
              "      <td>Alberta</td>\n",
              "      <td>Mining</td>\n",
              "      <td>I</td>\n",
              "      <td>IV</td>\n",
              "      <td>Male</td>\n",
              "      <td>Employee</td>\n",
              "      <td>Pressurized Systems</td>\n",
              "      <td>During the activation of a sodium sulphide pum...</td>\n",
              "    </tr>\n",
              "    <tr>\n",
              "      <th>2</th>\n",
              "      <td>06-01-2016 00:00</td>\n",
              "      <td>United States</td>\n",
              "      <td>Kentucky</td>\n",
              "      <td>Mining</td>\n",
              "      <td>I</td>\n",
              "      <td>III</td>\n",
              "      <td>Male</td>\n",
              "      <td>Third Party (Remote)</td>\n",
              "      <td>Manual Tools</td>\n",
              "      <td>In the sub-station MILPO located at level +170...</td>\n",
              "    </tr>\n",
              "    <tr>\n",
              "      <th>3</th>\n",
              "      <td>08-01-2016 00:00</td>\n",
              "      <td>United States</td>\n",
              "      <td>Illinois</td>\n",
              "      <td>Mining</td>\n",
              "      <td>I</td>\n",
              "      <td>I</td>\n",
              "      <td>Male</td>\n",
              "      <td>Third Party</td>\n",
              "      <td>Others</td>\n",
              "      <td>Being 9:45 am. approximately in the Nv. 1880 C...</td>\n",
              "    </tr>\n",
              "    <tr>\n",
              "      <th>4</th>\n",
              "      <td>10-01-2016 00:00</td>\n",
              "      <td>United States</td>\n",
              "      <td>Illinois</td>\n",
              "      <td>Mining</td>\n",
              "      <td>IV</td>\n",
              "      <td>IV</td>\n",
              "      <td>Male</td>\n",
              "      <td>Third Party</td>\n",
              "      <td>Others</td>\n",
              "      <td>Approximately at 11:45 a.m. in circumstances t...</td>\n",
              "    </tr>\n",
              "    <tr>\n",
              "      <th>...</th>\n",
              "      <td>...</td>\n",
              "      <td>...</td>\n",
              "      <td>...</td>\n",
              "      <td>...</td>\n",
              "      <td>...</td>\n",
              "      <td>...</td>\n",
              "      <td>...</td>\n",
              "      <td>...</td>\n",
              "      <td>...</td>\n",
              "      <td>...</td>\n",
              "    </tr>\n",
              "    <tr>\n",
              "      <th>419</th>\n",
              "      <td>04-07-2017 00:00</td>\n",
              "      <td>United States</td>\n",
              "      <td>Illinois</td>\n",
              "      <td>Mining</td>\n",
              "      <td>I</td>\n",
              "      <td>III</td>\n",
              "      <td>Male</td>\n",
              "      <td>Third Party</td>\n",
              "      <td>Others</td>\n",
              "      <td>Being approximately 5:00 a.m. approximately, w...</td>\n",
              "    </tr>\n",
              "    <tr>\n",
              "      <th>420</th>\n",
              "      <td>04-07-2017 00:00</td>\n",
              "      <td>United States</td>\n",
              "      <td>Kentucky</td>\n",
              "      <td>Mining</td>\n",
              "      <td>I</td>\n",
              "      <td>II</td>\n",
              "      <td>Female</td>\n",
              "      <td>Employee</td>\n",
              "      <td>Others</td>\n",
              "      <td>The collaborator moved from the infrastructure...</td>\n",
              "    </tr>\n",
              "    <tr>\n",
              "      <th>421</th>\n",
              "      <td>05-07-2017 00:00</td>\n",
              "      <td>Canada</td>\n",
              "      <td>Quebec</td>\n",
              "      <td>Metals</td>\n",
              "      <td>I</td>\n",
              "      <td>II</td>\n",
              "      <td>Male</td>\n",
              "      <td>Employee</td>\n",
              "      <td>Venomous Animals</td>\n",
              "      <td>During the environmental monitoring activity i...</td>\n",
              "    </tr>\n",
              "    <tr>\n",
              "      <th>422</th>\n",
              "      <td>06-07-2017 00:00</td>\n",
              "      <td>Canada</td>\n",
              "      <td>British Columbia</td>\n",
              "      <td>Metals</td>\n",
              "      <td>I</td>\n",
              "      <td>II</td>\n",
              "      <td>Male</td>\n",
              "      <td>Employee</td>\n",
              "      <td>Cut</td>\n",
              "      <td>The Employee performed the activity of strippi...</td>\n",
              "    </tr>\n",
              "    <tr>\n",
              "      <th>423</th>\n",
              "      <td>09-07-2017 00:00</td>\n",
              "      <td>United States</td>\n",
              "      <td>Illinois</td>\n",
              "      <td>Mining</td>\n",
              "      <td>I</td>\n",
              "      <td>II</td>\n",
              "      <td>Female</td>\n",
              "      <td>Third Party</td>\n",
              "      <td>Fall prevention (same level)</td>\n",
              "      <td>At 10:00 a.m., when the assistant cleaned the ...</td>\n",
              "    </tr>\n",
              "  </tbody>\n",
              "</table>\n",
              "<p>424 rows × 10 columns</p>\n",
              "</div>"
            ],
            "text/plain": [
              "                 Data  ...                                        Description\n",
              "0    01-01-2016 00:00  ...  While removing the drill rod of the Jumbo 08 f...\n",
              "1    02-01-2016 00:00  ...  During the activation of a sodium sulphide pum...\n",
              "2    06-01-2016 00:00  ...  In the sub-station MILPO located at level +170...\n",
              "3    08-01-2016 00:00  ...  Being 9:45 am. approximately in the Nv. 1880 C...\n",
              "4    10-01-2016 00:00  ...  Approximately at 11:45 a.m. in circumstances t...\n",
              "..                ...  ...                                                ...\n",
              "419  04-07-2017 00:00  ...  Being approximately 5:00 a.m. approximately, w...\n",
              "420  04-07-2017 00:00  ...  The collaborator moved from the infrastructure...\n",
              "421  05-07-2017 00:00  ...  During the environmental monitoring activity i...\n",
              "422  06-07-2017 00:00  ...  The Employee performed the activity of strippi...\n",
              "423  09-07-2017 00:00  ...  At 10:00 a.m., when the assistant cleaned the ...\n",
              "\n",
              "[424 rows x 10 columns]"
            ]
          },
          "metadata": {},
          "execution_count": 2
        }
      ]
    },
    {
      "cell_type": "code",
      "metadata": {
        "colab": {
          "base_uri": "https://localhost:8080/",
          "height": 161
        },
        "id": "LLXH0QiswxQd",
        "outputId": "23ad7918-ef82-41b2-bd84-d841770785f8"
      },
      "source": [
        "df.head(2)"
      ],
      "execution_count": null,
      "outputs": [
        {
          "output_type": "execute_result",
          "data": {
            "text/html": [
              "<div>\n",
              "<style scoped>\n",
              "    .dataframe tbody tr th:only-of-type {\n",
              "        vertical-align: middle;\n",
              "    }\n",
              "\n",
              "    .dataframe tbody tr th {\n",
              "        vertical-align: top;\n",
              "    }\n",
              "\n",
              "    .dataframe thead th {\n",
              "        text-align: right;\n",
              "    }\n",
              "</style>\n",
              "<table border=\"1\" class=\"dataframe\">\n",
              "  <thead>\n",
              "    <tr style=\"text-align: right;\">\n",
              "      <th></th>\n",
              "      <th>Data</th>\n",
              "      <th>Countries</th>\n",
              "      <th>Local</th>\n",
              "      <th>Industry Sector</th>\n",
              "      <th>Accident Level</th>\n",
              "      <th>Potential Accident Level</th>\n",
              "      <th>Gender</th>\n",
              "      <th>Employee or Third Party</th>\n",
              "      <th>Critical Risk</th>\n",
              "      <th>Description</th>\n",
              "    </tr>\n",
              "  </thead>\n",
              "  <tbody>\n",
              "    <tr>\n",
              "      <th>0</th>\n",
              "      <td>01-01-2016 00:00</td>\n",
              "      <td>United States</td>\n",
              "      <td>West Virginia</td>\n",
              "      <td>Mining</td>\n",
              "      <td>I</td>\n",
              "      <td>IV</td>\n",
              "      <td>Male</td>\n",
              "      <td>Third Party</td>\n",
              "      <td>Pressed</td>\n",
              "      <td>While removing the drill rod of the Jumbo 08 f...</td>\n",
              "    </tr>\n",
              "    <tr>\n",
              "      <th>1</th>\n",
              "      <td>02-01-2016 00:00</td>\n",
              "      <td>Canada</td>\n",
              "      <td>Alberta</td>\n",
              "      <td>Mining</td>\n",
              "      <td>I</td>\n",
              "      <td>IV</td>\n",
              "      <td>Male</td>\n",
              "      <td>Employee</td>\n",
              "      <td>Pressurized Systems</td>\n",
              "      <td>During the activation of a sodium sulphide pum...</td>\n",
              "    </tr>\n",
              "  </tbody>\n",
              "</table>\n",
              "</div>"
            ],
            "text/plain": [
              "               Data  ...                                        Description\n",
              "0  01-01-2016 00:00  ...  While removing the drill rod of the Jumbo 08 f...\n",
              "1  02-01-2016 00:00  ...  During the activation of a sodium sulphide pum...\n",
              "\n",
              "[2 rows x 10 columns]"
            ]
          },
          "metadata": {},
          "execution_count": 3
        }
      ]
    },
    {
      "cell_type": "code",
      "metadata": {
        "colab": {
          "base_uri": "https://localhost:8080/"
        },
        "id": "p_JUplONwnuI",
        "outputId": "b8b55e7f-674a-4923-c3fe-717ef77b387a"
      },
      "source": [
        "df.info"
      ],
      "execution_count": null,
      "outputs": [
        {
          "output_type": "execute_result",
          "data": {
            "text/plain": [
              "<bound method DataFrame.info of                  Data  ...                                        Description\n",
              "0    01-01-2016 00:00  ...  While removing the drill rod of the Jumbo 08 f...\n",
              "1    02-01-2016 00:00  ...  During the activation of a sodium sulphide pum...\n",
              "2    06-01-2016 00:00  ...  In the sub-station MILPO located at level +170...\n",
              "3    08-01-2016 00:00  ...  Being 9:45 am. approximately in the Nv. 1880 C...\n",
              "4    10-01-2016 00:00  ...  Approximately at 11:45 a.m. in circumstances t...\n",
              "..                ...  ...                                                ...\n",
              "419  04-07-2017 00:00  ...  Being approximately 5:00 a.m. approximately, w...\n",
              "420  04-07-2017 00:00  ...  The collaborator moved from the infrastructure...\n",
              "421  05-07-2017 00:00  ...  During the environmental monitoring activity i...\n",
              "422  06-07-2017 00:00  ...  The Employee performed the activity of strippi...\n",
              "423  09-07-2017 00:00  ...  At 10:00 a.m., when the assistant cleaned the ...\n",
              "\n",
              "[424 rows x 10 columns]>"
            ]
          },
          "metadata": {},
          "execution_count": 4
        }
      ]
    },
    {
      "cell_type": "code",
      "metadata": {
        "id": "6DADvlD7xI1B"
      },
      "source": [
        "df.rename(columns = {'Data' : 'Date' , 'Countries' : 'Country' , 'Employee or Third Party' : 'Employee Type'},inplace = True)"
      ],
      "execution_count": null,
      "outputs": []
    },
    {
      "cell_type": "code",
      "metadata": {
        "colab": {
          "base_uri": "https://localhost:8080/",
          "height": 599
        },
        "id": "t1ak6n-ByYTo",
        "outputId": "e5ad2abf-7ef9-4bc1-c24f-770631ecda6f"
      },
      "source": [
        "df"
      ],
      "execution_count": null,
      "outputs": [
        {
          "output_type": "execute_result",
          "data": {
            "text/html": [
              "<div>\n",
              "<style scoped>\n",
              "    .dataframe tbody tr th:only-of-type {\n",
              "        vertical-align: middle;\n",
              "    }\n",
              "\n",
              "    .dataframe tbody tr th {\n",
              "        vertical-align: top;\n",
              "    }\n",
              "\n",
              "    .dataframe thead th {\n",
              "        text-align: right;\n",
              "    }\n",
              "</style>\n",
              "<table border=\"1\" class=\"dataframe\">\n",
              "  <thead>\n",
              "    <tr style=\"text-align: right;\">\n",
              "      <th></th>\n",
              "      <th>Date</th>\n",
              "      <th>Country</th>\n",
              "      <th>Local</th>\n",
              "      <th>Industry Sector</th>\n",
              "      <th>Accident Level</th>\n",
              "      <th>Potential Accident Level</th>\n",
              "      <th>Gender</th>\n",
              "      <th>Employee Type</th>\n",
              "      <th>Critical Risk</th>\n",
              "      <th>Description</th>\n",
              "    </tr>\n",
              "  </thead>\n",
              "  <tbody>\n",
              "    <tr>\n",
              "      <th>0</th>\n",
              "      <td>01-01-2016 00:00</td>\n",
              "      <td>United States</td>\n",
              "      <td>West Virginia</td>\n",
              "      <td>Mining</td>\n",
              "      <td>I</td>\n",
              "      <td>IV</td>\n",
              "      <td>Male</td>\n",
              "      <td>Third Party</td>\n",
              "      <td>Pressed</td>\n",
              "      <td>While removing the drill rod of the Jumbo 08 f...</td>\n",
              "    </tr>\n",
              "    <tr>\n",
              "      <th>1</th>\n",
              "      <td>02-01-2016 00:00</td>\n",
              "      <td>Canada</td>\n",
              "      <td>Alberta</td>\n",
              "      <td>Mining</td>\n",
              "      <td>I</td>\n",
              "      <td>IV</td>\n",
              "      <td>Male</td>\n",
              "      <td>Employee</td>\n",
              "      <td>Pressurized Systems</td>\n",
              "      <td>During the activation of a sodium sulphide pum...</td>\n",
              "    </tr>\n",
              "    <tr>\n",
              "      <th>2</th>\n",
              "      <td>06-01-2016 00:00</td>\n",
              "      <td>United States</td>\n",
              "      <td>Kentucky</td>\n",
              "      <td>Mining</td>\n",
              "      <td>I</td>\n",
              "      <td>III</td>\n",
              "      <td>Male</td>\n",
              "      <td>Third Party (Remote)</td>\n",
              "      <td>Manual Tools</td>\n",
              "      <td>In the sub-station MILPO located at level +170...</td>\n",
              "    </tr>\n",
              "    <tr>\n",
              "      <th>3</th>\n",
              "      <td>08-01-2016 00:00</td>\n",
              "      <td>United States</td>\n",
              "      <td>Illinois</td>\n",
              "      <td>Mining</td>\n",
              "      <td>I</td>\n",
              "      <td>I</td>\n",
              "      <td>Male</td>\n",
              "      <td>Third Party</td>\n",
              "      <td>Others</td>\n",
              "      <td>Being 9:45 am. approximately in the Nv. 1880 C...</td>\n",
              "    </tr>\n",
              "    <tr>\n",
              "      <th>4</th>\n",
              "      <td>10-01-2016 00:00</td>\n",
              "      <td>United States</td>\n",
              "      <td>Illinois</td>\n",
              "      <td>Mining</td>\n",
              "      <td>IV</td>\n",
              "      <td>IV</td>\n",
              "      <td>Male</td>\n",
              "      <td>Third Party</td>\n",
              "      <td>Others</td>\n",
              "      <td>Approximately at 11:45 a.m. in circumstances t...</td>\n",
              "    </tr>\n",
              "    <tr>\n",
              "      <th>...</th>\n",
              "      <td>...</td>\n",
              "      <td>...</td>\n",
              "      <td>...</td>\n",
              "      <td>...</td>\n",
              "      <td>...</td>\n",
              "      <td>...</td>\n",
              "      <td>...</td>\n",
              "      <td>...</td>\n",
              "      <td>...</td>\n",
              "      <td>...</td>\n",
              "    </tr>\n",
              "    <tr>\n",
              "      <th>419</th>\n",
              "      <td>04-07-2017 00:00</td>\n",
              "      <td>United States</td>\n",
              "      <td>Illinois</td>\n",
              "      <td>Mining</td>\n",
              "      <td>I</td>\n",
              "      <td>III</td>\n",
              "      <td>Male</td>\n",
              "      <td>Third Party</td>\n",
              "      <td>Others</td>\n",
              "      <td>Being approximately 5:00 a.m. approximately, w...</td>\n",
              "    </tr>\n",
              "    <tr>\n",
              "      <th>420</th>\n",
              "      <td>04-07-2017 00:00</td>\n",
              "      <td>United States</td>\n",
              "      <td>Kentucky</td>\n",
              "      <td>Mining</td>\n",
              "      <td>I</td>\n",
              "      <td>II</td>\n",
              "      <td>Female</td>\n",
              "      <td>Employee</td>\n",
              "      <td>Others</td>\n",
              "      <td>The collaborator moved from the infrastructure...</td>\n",
              "    </tr>\n",
              "    <tr>\n",
              "      <th>421</th>\n",
              "      <td>05-07-2017 00:00</td>\n",
              "      <td>Canada</td>\n",
              "      <td>Quebec</td>\n",
              "      <td>Metals</td>\n",
              "      <td>I</td>\n",
              "      <td>II</td>\n",
              "      <td>Male</td>\n",
              "      <td>Employee</td>\n",
              "      <td>Venomous Animals</td>\n",
              "      <td>During the environmental monitoring activity i...</td>\n",
              "    </tr>\n",
              "    <tr>\n",
              "      <th>422</th>\n",
              "      <td>06-07-2017 00:00</td>\n",
              "      <td>Canada</td>\n",
              "      <td>British Columbia</td>\n",
              "      <td>Metals</td>\n",
              "      <td>I</td>\n",
              "      <td>II</td>\n",
              "      <td>Male</td>\n",
              "      <td>Employee</td>\n",
              "      <td>Cut</td>\n",
              "      <td>The Employee performed the activity of strippi...</td>\n",
              "    </tr>\n",
              "    <tr>\n",
              "      <th>423</th>\n",
              "      <td>09-07-2017 00:00</td>\n",
              "      <td>United States</td>\n",
              "      <td>Illinois</td>\n",
              "      <td>Mining</td>\n",
              "      <td>I</td>\n",
              "      <td>II</td>\n",
              "      <td>Female</td>\n",
              "      <td>Third Party</td>\n",
              "      <td>Fall prevention (same level)</td>\n",
              "      <td>At 10:00 a.m., when the assistant cleaned the ...</td>\n",
              "    </tr>\n",
              "  </tbody>\n",
              "</table>\n",
              "<p>424 rows × 10 columns</p>\n",
              "</div>"
            ],
            "text/plain": [
              "                 Date  ...                                        Description\n",
              "0    01-01-2016 00:00  ...  While removing the drill rod of the Jumbo 08 f...\n",
              "1    02-01-2016 00:00  ...  During the activation of a sodium sulphide pum...\n",
              "2    06-01-2016 00:00  ...  In the sub-station MILPO located at level +170...\n",
              "3    08-01-2016 00:00  ...  Being 9:45 am. approximately in the Nv. 1880 C...\n",
              "4    10-01-2016 00:00  ...  Approximately at 11:45 a.m. in circumstances t...\n",
              "..                ...  ...                                                ...\n",
              "419  04-07-2017 00:00  ...  Being approximately 5:00 a.m. approximately, w...\n",
              "420  04-07-2017 00:00  ...  The collaborator moved from the infrastructure...\n",
              "421  05-07-2017 00:00  ...  During the environmental monitoring activity i...\n",
              "422  06-07-2017 00:00  ...  The Employee performed the activity of strippi...\n",
              "423  09-07-2017 00:00  ...  At 10:00 a.m., when the assistant cleaned the ...\n",
              "\n",
              "[424 rows x 10 columns]"
            ]
          },
          "metadata": {},
          "execution_count": 6
        }
      ]
    },
    {
      "cell_type": "code",
      "metadata": {
        "colab": {
          "base_uri": "https://localhost:8080/",
          "height": 161
        },
        "id": "UKn4l0tCxgCR",
        "outputId": "1ed02a5b-0b5d-43e7-945a-9ee00bd48fe4"
      },
      "source": [
        "df['Date'] = pd.to_datetime(df['Date'])\n",
        "df['Year'] = df['Date'].apply( lambda x : x.year)\n",
        "df['Month'] = df['Date'].apply( lambda x : x.month)\n",
        "df['Day'] = df['Date'].apply(lambda x : x.day)\n",
        "df['Weekday'] = df['Date'].apply( lambda x : x.day_name())\n",
        "df['Weekofyear'] = df['Date'].apply(lambda x : x.weekofyear)\n",
        "df.head(2)"
      ],
      "execution_count": null,
      "outputs": [
        {
          "output_type": "execute_result",
          "data": {
            "text/html": [
              "<div>\n",
              "<style scoped>\n",
              "    .dataframe tbody tr th:only-of-type {\n",
              "        vertical-align: middle;\n",
              "    }\n",
              "\n",
              "    .dataframe tbody tr th {\n",
              "        vertical-align: top;\n",
              "    }\n",
              "\n",
              "    .dataframe thead th {\n",
              "        text-align: right;\n",
              "    }\n",
              "</style>\n",
              "<table border=\"1\" class=\"dataframe\">\n",
              "  <thead>\n",
              "    <tr style=\"text-align: right;\">\n",
              "      <th></th>\n",
              "      <th>Date</th>\n",
              "      <th>Country</th>\n",
              "      <th>Local</th>\n",
              "      <th>Industry Sector</th>\n",
              "      <th>Accident Level</th>\n",
              "      <th>Potential Accident Level</th>\n",
              "      <th>Gender</th>\n",
              "      <th>Employee Type</th>\n",
              "      <th>Critical Risk</th>\n",
              "      <th>Description</th>\n",
              "      <th>Year</th>\n",
              "      <th>Month</th>\n",
              "      <th>Day</th>\n",
              "      <th>Weekday</th>\n",
              "      <th>Weekofyear</th>\n",
              "    </tr>\n",
              "  </thead>\n",
              "  <tbody>\n",
              "    <tr>\n",
              "      <th>0</th>\n",
              "      <td>2016-01-01</td>\n",
              "      <td>United States</td>\n",
              "      <td>West Virginia</td>\n",
              "      <td>Mining</td>\n",
              "      <td>I</td>\n",
              "      <td>IV</td>\n",
              "      <td>Male</td>\n",
              "      <td>Third Party</td>\n",
              "      <td>Pressed</td>\n",
              "      <td>While removing the drill rod of the Jumbo 08 f...</td>\n",
              "      <td>2016</td>\n",
              "      <td>1</td>\n",
              "      <td>1</td>\n",
              "      <td>Friday</td>\n",
              "      <td>53</td>\n",
              "    </tr>\n",
              "    <tr>\n",
              "      <th>1</th>\n",
              "      <td>2016-02-01</td>\n",
              "      <td>Canada</td>\n",
              "      <td>Alberta</td>\n",
              "      <td>Mining</td>\n",
              "      <td>I</td>\n",
              "      <td>IV</td>\n",
              "      <td>Male</td>\n",
              "      <td>Employee</td>\n",
              "      <td>Pressurized Systems</td>\n",
              "      <td>During the activation of a sodium sulphide pum...</td>\n",
              "      <td>2016</td>\n",
              "      <td>2</td>\n",
              "      <td>1</td>\n",
              "      <td>Monday</td>\n",
              "      <td>5</td>\n",
              "    </tr>\n",
              "  </tbody>\n",
              "</table>\n",
              "</div>"
            ],
            "text/plain": [
              "        Date         Country          Local  ... Day Weekday Weekofyear\n",
              "0 2016-01-01  United States   West Virginia  ...   1  Friday         53\n",
              "1 2016-02-01          Canada        Alberta  ...   1  Monday          5\n",
              "\n",
              "[2 rows x 15 columns]"
            ]
          },
          "metadata": {},
          "execution_count": 7
        }
      ]
    },
    {
      "cell_type": "code",
      "metadata": {
        "id": "zBfYfZFnZgQv"
      },
      "source": [
        "def month2seasons(x):\n",
        "  if x in [9,10,11]:\n",
        "    season = \"Spring\"\n",
        "  elif x in [12,1,2]:\n",
        "    season = \"Winter\"\n",
        "  elif x in [3,4,5]:\n",
        "    season = \"Autumn\"\n",
        "  elif x in [6,7,8]:\n",
        "      season = \"Summer\"\n",
        "  return season "
      ],
      "execution_count": null,
      "outputs": []
    },
    {
      "cell_type": "code",
      "metadata": {
        "colab": {
          "base_uri": "https://localhost:8080/",
          "height": 403
        },
        "id": "XV8_5Z4waXTc",
        "outputId": "2823361f-a120-4f16-a36f-fbc45a852138"
      },
      "source": [
        "df['Season'] = df['Month'].apply(month2seasons)\n",
        "df.head()"
      ],
      "execution_count": null,
      "outputs": [
        {
          "output_type": "execute_result",
          "data": {
            "text/html": [
              "<div>\n",
              "<style scoped>\n",
              "    .dataframe tbody tr th:only-of-type {\n",
              "        vertical-align: middle;\n",
              "    }\n",
              "\n",
              "    .dataframe tbody tr th {\n",
              "        vertical-align: top;\n",
              "    }\n",
              "\n",
              "    .dataframe thead th {\n",
              "        text-align: right;\n",
              "    }\n",
              "</style>\n",
              "<table border=\"1\" class=\"dataframe\">\n",
              "  <thead>\n",
              "    <tr style=\"text-align: right;\">\n",
              "      <th></th>\n",
              "      <th>Date</th>\n",
              "      <th>Country</th>\n",
              "      <th>Local</th>\n",
              "      <th>Industry Sector</th>\n",
              "      <th>Accident Level</th>\n",
              "      <th>Potential Accident Level</th>\n",
              "      <th>Gender</th>\n",
              "      <th>Employee Type</th>\n",
              "      <th>Critical Risk</th>\n",
              "      <th>Description</th>\n",
              "      <th>Year</th>\n",
              "      <th>Month</th>\n",
              "      <th>Day</th>\n",
              "      <th>Weekday</th>\n",
              "      <th>Weekofyear</th>\n",
              "      <th>Season</th>\n",
              "    </tr>\n",
              "  </thead>\n",
              "  <tbody>\n",
              "    <tr>\n",
              "      <th>0</th>\n",
              "      <td>2016-01-01</td>\n",
              "      <td>United States</td>\n",
              "      <td>West Virginia</td>\n",
              "      <td>Mining</td>\n",
              "      <td>I</td>\n",
              "      <td>IV</td>\n",
              "      <td>Male</td>\n",
              "      <td>Third Party</td>\n",
              "      <td>Pressed</td>\n",
              "      <td>While removing the drill rod of the Jumbo 08 f...</td>\n",
              "      <td>2016</td>\n",
              "      <td>1</td>\n",
              "      <td>1</td>\n",
              "      <td>Friday</td>\n",
              "      <td>53</td>\n",
              "      <td>Winter</td>\n",
              "    </tr>\n",
              "    <tr>\n",
              "      <th>1</th>\n",
              "      <td>2016-02-01</td>\n",
              "      <td>Canada</td>\n",
              "      <td>Alberta</td>\n",
              "      <td>Mining</td>\n",
              "      <td>I</td>\n",
              "      <td>IV</td>\n",
              "      <td>Male</td>\n",
              "      <td>Employee</td>\n",
              "      <td>Pressurized Systems</td>\n",
              "      <td>During the activation of a sodium sulphide pum...</td>\n",
              "      <td>2016</td>\n",
              "      <td>2</td>\n",
              "      <td>1</td>\n",
              "      <td>Monday</td>\n",
              "      <td>5</td>\n",
              "      <td>Winter</td>\n",
              "    </tr>\n",
              "    <tr>\n",
              "      <th>2</th>\n",
              "      <td>2016-06-01</td>\n",
              "      <td>United States</td>\n",
              "      <td>Kentucky</td>\n",
              "      <td>Mining</td>\n",
              "      <td>I</td>\n",
              "      <td>III</td>\n",
              "      <td>Male</td>\n",
              "      <td>Third Party (Remote)</td>\n",
              "      <td>Manual Tools</td>\n",
              "      <td>In the sub-station MILPO located at level +170...</td>\n",
              "      <td>2016</td>\n",
              "      <td>6</td>\n",
              "      <td>1</td>\n",
              "      <td>Wednesday</td>\n",
              "      <td>22</td>\n",
              "      <td>Summer</td>\n",
              "    </tr>\n",
              "    <tr>\n",
              "      <th>3</th>\n",
              "      <td>2016-08-01</td>\n",
              "      <td>United States</td>\n",
              "      <td>Illinois</td>\n",
              "      <td>Mining</td>\n",
              "      <td>I</td>\n",
              "      <td>I</td>\n",
              "      <td>Male</td>\n",
              "      <td>Third Party</td>\n",
              "      <td>Others</td>\n",
              "      <td>Being 9:45 am. approximately in the Nv. 1880 C...</td>\n",
              "      <td>2016</td>\n",
              "      <td>8</td>\n",
              "      <td>1</td>\n",
              "      <td>Monday</td>\n",
              "      <td>31</td>\n",
              "      <td>Summer</td>\n",
              "    </tr>\n",
              "    <tr>\n",
              "      <th>4</th>\n",
              "      <td>2016-10-01</td>\n",
              "      <td>United States</td>\n",
              "      <td>Illinois</td>\n",
              "      <td>Mining</td>\n",
              "      <td>IV</td>\n",
              "      <td>IV</td>\n",
              "      <td>Male</td>\n",
              "      <td>Third Party</td>\n",
              "      <td>Others</td>\n",
              "      <td>Approximately at 11:45 a.m. in circumstances t...</td>\n",
              "      <td>2016</td>\n",
              "      <td>10</td>\n",
              "      <td>1</td>\n",
              "      <td>Saturday</td>\n",
              "      <td>39</td>\n",
              "      <td>Spring</td>\n",
              "    </tr>\n",
              "  </tbody>\n",
              "</table>\n",
              "</div>"
            ],
            "text/plain": [
              "        Date         Country          Local  ...    Weekday Weekofyear  Season\n",
              "0 2016-01-01  United States   West Virginia  ...     Friday         53  Winter\n",
              "1 2016-02-01          Canada        Alberta  ...     Monday          5  Winter\n",
              "2 2016-06-01  United States        Kentucky  ...  Wednesday         22  Summer\n",
              "3 2016-08-01  United States        Illinois  ...     Monday         31  Summer\n",
              "4 2016-10-01  United States        Illinois  ...   Saturday         39  Spring\n",
              "\n",
              "[5 rows x 16 columns]"
            ]
          },
          "metadata": {},
          "execution_count": 22
        }
      ]
    },
    {
      "cell_type": "code",
      "metadata": {
        "id": "ljhLVmj4bmxK"
      },
      "source": [
        "# EXPLORATORY DATA ANALYSIS "
      ],
      "execution_count": null,
      "outputs": []
    },
    {
      "cell_type": "code",
      "metadata": {
        "colab": {
          "base_uri": "https://localhost:8080/"
        },
        "id": "M9E0QaWPbuTq",
        "outputId": "5274e676-c8a6-442f-f652-3c52563e049c"
      },
      "source": [
        "#ACCIDENT BY COUNTRY \n",
        "\n",
        "df['Country'].value_counts()"
      ],
      "execution_count": null,
      "outputs": [
        {
          "output_type": "execute_result",
          "data": {
            "text/plain": [
              "United States     251\n",
              "Canada            129\n",
              "Mexico             44\n",
              "Name: Country, dtype: int64"
            ]
          },
          "metadata": {},
          "execution_count": 11
        }
      ]
    },
    {
      "cell_type": "code",
      "metadata": {
        "colab": {
          "base_uri": "https://localhost:8080/"
        },
        "id": "YHTUW8brcRoD",
        "outputId": "4560df7d-fe2a-4b48-a76e-80e76cb27f60"
      },
      "source": [
        "country_cnt = np.round((df['Country'].value_counts(normalize = True)* 100 ))  # .round() = rounds of the value and then gives a round off floating point value \n",
        "country_cnt"
      ],
      "execution_count": null,
      "outputs": [
        {
          "output_type": "execute_result",
          "data": {
            "text/plain": [
              "United States     59.0\n",
              "Canada            30.0\n",
              "Mexico            10.0\n",
              "Name: Country, dtype: float64"
            ]
          },
          "metadata": {},
          "execution_count": 12
        }
      ]
    },
    {
      "cell_type": "code",
      "metadata": {
        "colab": {
          "base_uri": "https://localhost:8080/"
        },
        "id": "LG3qmVLIc_2B",
        "outputId": "af05866b-9882-4a98-f899-f090cdf3401d"
      },
      "source": [
        "type(country_cnt)"
      ],
      "execution_count": null,
      "outputs": [
        {
          "output_type": "execute_result",
          "data": {
            "text/plain": [
              "pandas.core.series.Series"
            ]
          },
          "metadata": {},
          "execution_count": 13
        }
      ]
    },
    {
      "cell_type": "code",
      "metadata": {
        "colab": {
          "base_uri": "https://localhost:8080/"
        },
        "id": "mgCMHNSidDX_",
        "outputId": "10e2f2fc-fadb-495b-c1eb-fc098b4afd0d"
      },
      "source": [
        "percent = country_cnt.to_numpy()\n",
        "country = country_cnt.keys().values\n",
        "\n",
        "percent\n",
        "country"
      ],
      "execution_count": null,
      "outputs": [
        {
          "output_type": "execute_result",
          "data": {
            "text/plain": [
              "array(['United States ', 'Canada', 'Mexico'], dtype=object)"
            ]
          },
          "metadata": {},
          "execution_count": 14
        }
      ]
    },
    {
      "cell_type": "code",
      "metadata": {
        "colab": {
          "base_uri": "https://localhost:8080/",
          "height": 350
        },
        "id": "_yjEy6Gld2Gh",
        "outputId": "37c9c1f2-61bd-47a0-97f4-b519cff7a863"
      },
      "source": [
        "fig = plt.figure(figsize = (10,5))\n",
        "plt.bar(country, percent, color = 'red', width = 0.4)\n",
        "plt.xlabel(\"countries\")\n",
        "plt.ylabel(\"% of Accidents\")\n",
        "plt.title(\"Accident Distribution - Country Wise\")\n",
        "plt.show()"
      ],
      "execution_count": null,
      "outputs": [
        {
          "output_type": "display_data",
          "data": {
            "image/png": "[encoded data removed]",
            "text/plain": [
              "<Figure size 720x360 with 1 Axes>"
            ]
          },
          "metadata": {
            "needs_background": "light"
          }
        }
      ]
    },
    {
      "cell_type": "code",
      "metadata": {
        "colab": {
          "base_uri": "https://localhost:8080/"
        },
        "id": "6iVXzbY0dtKF",
        "outputId": "face5196-0dca-447f-b8ee-10edffe29632"
      },
      "source": [
        "#Accident by local\n",
        "\n",
        "local_cnt = np.round(df['Local'].value_counts(normalize = True) * 100 )\n",
        "local_cnt "
      ],
      "execution_count": null,
      "outputs": [
        {
          "output_type": "execute_result",
          "data": {
            "text/plain": [
              "Kentucky             21.0\n",
              "British Columbia     14.0\n",
              "West Virginia        13.0\n",
              "Illinois             13.0\n",
              "Pennsylvania         11.0\n",
              "Mexico City          10.0\n",
              "Ontario               6.0\n",
              "Alberta               6.0\n",
              "Manitoba              4.0\n",
              "Quebec                1.0\n",
              "Yukon                 1.0\n",
              "Montana               0.0\n",
              "Name: Local, dtype: float64"
            ]
          },
          "metadata": {},
          "execution_count": 16
        }
      ]
    },
    {
      "cell_type": "code",
      "metadata": {
        "colab": {
          "base_uri": "https://localhost:8080/",
          "height": 350
        },
        "id": "JCFueGGyfUtB",
        "outputId": "c34d2832-2254-4fdc-d2c3-9a630e43114a"
      },
      "source": [
        "fig = plt.figure(figsize = (18,5))\n",
        "plt.bar(local_cnt.keys().values, local_cnt.to_numpy(), color = 'yellow', width = 0.4, edgecolor = 'blue')\n",
        "plt.xlabel(\"Countries\")\n",
        "plt.ylabel(\"% of Accidents\")\n",
        "plt.title(\"Accidents Distribution- Local Wise\")\n",
        "plt.show()"
      ],
      "execution_count": null,
      "outputs": [
        {
          "output_type": "display_data",
          "data": {
            "image/png": "[encoded data removed]",
            "text/plain": [
              "<Figure size 1296x360 with 1 Axes>"
            ]
          },
          "metadata": {
            "needs_background": "light"
          }
        }
      ]
    },
    {
      "cell_type": "code",
      "metadata": {
        "id": "XnUOtik1gvo0"
      },
      "source": [
        "#ACCIDENT BY SECTOR "
      ],
      "execution_count": null,
      "outputs": []
    },
    {
      "cell_type": "code",
      "metadata": {
        "colab": {
          "base_uri": "https://localhost:8080/",
          "height": 350
        },
        "id": "LbYis5GFWz8e",
        "outputId": "fdc63379-aa48-42b6-8f8a-ce5459519148"
      },
      "source": [
        "sector_cnt = np.round(df['Industry Sector'].value_counts(normalize = True) * 100)\n",
        "fig = plt.figure(figsize = (5,5))\n",
        "plt.bar(sector_cnt.keys().values, sector_cnt.to_numpy(), color = ['red', 'green', 'blue'],width = 0.5)\n",
        "plt.xlabel(\"Countries\")\n",
        "plt.ylabel(\"% of Accidents\")\n",
        "plt.title(\"Accident Distribution - Sector Wise\")\n",
        "plt.show()"
      ],
      "execution_count": null,
      "outputs": [
        {
          "output_type": "display_data",
          "data": {
            "image/png": "[encoded data removed]",
            "text/plain": [
              "<Figure size 360x360 with 1 Axes>"
            ]
          },
          "metadata": {
            "needs_background": "light"
          }
        }
      ]
    },
    {
      "cell_type": "code",
      "metadata": {
        "colab": {
          "base_uri": "https://localhost:8080/",
          "height": 264
        },
        "id": "Pv8guecOX9MJ",
        "outputId": "42c93f60-5e83-4246-9f17-a511525c4106"
      },
      "source": [
        "plt.pie(sector_cnt.to_numpy(), labels = sector_cnt.keys().values)\n",
        "plt.title(\"Accident Distribution- Sector Wise\")\n",
        "plt.show()"
      ],
      "execution_count": null,
      "outputs": [
        {
          "output_type": "display_data",
          "data": {
            "image/png": "[encoded data removed]",
            "text/plain": [
              "<Figure size 432x288 with 1 Axes>"
            ]
          },
          "metadata": {}
        }
      ]
    },
    {
      "cell_type": "code",
      "metadata": {
        "id": "-NTUKJMBZ4I9"
      },
      "source": [
        "#BY ACCIDENT lEVEL"
      ],
      "execution_count": null,
      "outputs": []
    },
    {
      "cell_type": "code",
      "metadata": {
        "id": "jfzMk5eMZ_9g"
      },
      "source": [
        "ac_level_cnt = np.round(df[\"Accident Level\"].value_counts(normalize = True)* 100)\n",
        "pot_ac_level_cnt = np.round(df['Potential Accident Level'].value_counts(normalize = True) * 100, decimals = 1)"
      ],
      "execution_count": null,
      "outputs": []
    },
    {
      "cell_type": "code",
      "metadata": {
        "colab": {
          "base_uri": "https://localhost:8080/"
        },
        "id": "lWLUqgEBaqGf",
        "outputId": "3bd1f6e6-fbe4-4216-faf3-93ac62a470a7"
      },
      "source": [
        "ac_level_cnt"
      ],
      "execution_count": null,
      "outputs": [
        {
          "output_type": "execute_result",
          "data": {
            "text/plain": [
              "I      74.0\n",
              "II      9.0\n",
              "III     7.0\n",
              "IV      7.0\n",
              "V       2.0\n",
              "Name: Accident Level, dtype: float64"
            ]
          },
          "metadata": {},
          "execution_count": 27
        }
      ]
    },
    {
      "cell_type": "code",
      "metadata": {
        "colab": {
          "base_uri": "https://localhost:8080/"
        },
        "id": "_jQbw0xlayZI",
        "outputId": "74cfdcf1-c825-4da6-af0c-b2c8a3246358"
      },
      "source": [
        "pot_ac_level_cnt"
      ],
      "execution_count": null,
      "outputs": [
        {
          "output_type": "execute_result",
          "data": {
            "text/plain": [
              "IV     33.7\n",
              "III    25.0\n",
              "II     22.2\n",
              "I      11.6\n",
              "V       7.3\n",
              "VI      0.2\n",
              "Name: Potential Accident Level, dtype: float64"
            ]
          },
          "metadata": {},
          "execution_count": 29
        }
      ]
    },
    {
      "cell_type": "code",
      "metadata": {
        "id": "apFaV027a9kJ"
      },
      "source": [
        ""
      ],
      "execution_count": null,
      "outputs": []
    }
  ]
}